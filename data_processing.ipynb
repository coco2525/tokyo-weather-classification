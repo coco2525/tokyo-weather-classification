{
  "nbformat": 4,
  "nbformat_minor": 0,
  "metadata": {
    "colab": {
      "provenance": []
    },
    "kernelspec": {
      "name": "python3",
      "display_name": "Python 3"
    },
    "language_info": {
      "name": "python"
    }
  },
  "cells": [
    {
      "cell_type": "code",
      "source": [
        "# OpenWeatherMap How to make an API call https://openweathermap.org/history"
      ],
      "metadata": {
        "id": "fN48C2cKOemH"
      },
      "execution_count": null,
      "outputs": []
    },
    {
      "cell_type": "code",
      "source": [
        "import pandas as pd\n",
        "import requests\n",
        "from datetime import datetime, timedelta\n",
        "import time"
      ],
      "metadata": {
        "id": "Zq_TyNqbNaFe"
      },
      "execution_count": null,
      "outputs": []
    },
    {
      "cell_type": "code",
      "source": [
        "# Function to fetch weather data for a given date range\n",
        "def fetch_weather_data(start_date, end_date):\n",
        "    # Initialize an empty list to store weather data\n",
        "    weather_data = []\n",
        "    # Loop through each day in the date range\n",
        "    current_date = start_date\n",
        "    while current_date <= end_date:\n",
        "        timestamp = int(current_date.timestamp())\n",
        "\n",
        "        # Construct the API URL\n",
        "        url = f'http://history.openweathermap.org/data/2.5/history/city?id=1850147&type=hour&start={timestamp}&end={timestamp}&appid=your_api_key&units=metric'\n",
        "\n",
        "        # Send the request to the OpenWeatherMap API\n",
        "        response = requests.get(url)\n",
        "\n",
        "        # Check if the request was successful\n",
        "        if response.status_code == 200:\n",
        "            data = response.json()\n",
        "\n",
        "            # Iterate over the forecast data\n",
        "            for history in data['list']:\n",
        "                # Convert temperatures from Celsius to Fahrenheit\n",
        "                temp_max = (history['main']['temp_max']) * 9/5 + 32\n",
        "                temp_min = (history['main']['temp_min']) * 9/5 + 32\n",
        "                humidity = history['main']['humidity']\n",
        "                pressure = history['main']['pressure']\n",
        "                wind_speed = history['wind']['speed']\n",
        "                wind_deg = history['wind']['deg']\n",
        "                weather = history['weather'][0]['main']\n",
        "                description = history['weather'][0]['description']\n",
        "                rainfall = history.get('rain', {}).get('1h', 0)\n",
        "                clouds = history['clouds']['all']\n",
        "                date = datetime.fromtimestamp(history['dt']).strftime('%m/%d/%Y %H:%M:%S')\n",
        "\n",
        "                print(f\"{date}: Successful\")\n",
        "\n",
        "                # Append the collected data to the weather_data list\n",
        "                weather_data.append({\n",
        "                    'Date': date,\n",
        "                    'Max Temperature (F)': round(temp_max, 2),\n",
        "                    'Min Temperature (F)': round(temp_min, 2),\n",
        "                    'Humidity (%)': humidity,\n",
        "                    'Weather': weather,\n",
        "                    'Description': description,\n",
        "                    'Rainfall (mm)': rainfall,\n",
        "                    'Pressure (hPa)': pressure,\n",
        "                    'Wind Speed (m/s)': wind_speed,\n",
        "                    'Wind Direction (°)': wind_deg,\n",
        "                    'Clouds (%)': clouds\n",
        "                })\n",
        "        else:\n",
        "            print(f\"Error fetching weather data for {current_date}\")\n",
        "\n",
        "        # Update the current date to the next day\n",
        "        current_date = datetime.fromtimestamp(current_date.timestamp() + 3600)\n",
        "\n",
        "    return weather_data"
      ],
      "metadata": {
        "id": "ZyJBa3mRxj8N"
      },
      "execution_count": null,
      "outputs": []
    },
    {
      "cell_type": "code",
      "source": [
        "# Define the start and end dates for the first 6 months\n",
        "start_date1 = datetime(2023, 7, 29)\n",
        "end_date1 = start_date1 + timedelta(days=180)"
      ],
      "metadata": {
        "id": "-kwvrpuBx5j0"
      },
      "execution_count": null,
      "outputs": []
    },
    {
      "cell_type": "code",
      "source": [
        "# Define the start and end dates for the second 6 months\n",
        "start_date2 = end_date1 + timedelta(days=1)\n",
        "end_date2 = datetime(2024, 7, 29)"
      ],
      "metadata": {
        "id": "psRZuOjNx7Q4"
      },
      "execution_count": null,
      "outputs": []
    },
    {
      "cell_type": "code",
      "source": [
        "# Fetch the data for each period\n",
        "weather_data_1 = fetch_weather_data(start_date1, end_date1)\n",
        "weather_data_2 = fetch_weather_data(start_date2, end_date2)"
      ],
      "metadata": {
        "id": "2xS7k0_Gx9k0"
      },
      "execution_count": null,
      "outputs": []
    },
    {
      "cell_type": "code",
      "source": [
        "# Convert the lists to DataFrames\n",
        "df1 = pd.DataFrame(weather_data_1)\n",
        "df2 = pd.DataFrame(weather_data_2)"
      ],
      "metadata": {
        "id": "xtbaHImbx_Z_"
      },
      "execution_count": null,
      "outputs": []
    },
    {
      "cell_type": "code",
      "source": [
        "# Export the DataFrame to a CSV file\n",
        "df1.to_csv('df1.csv', index=False)\n",
        "df2.to_csv('df2.csv', index=False)"
      ],
      "metadata": {
        "id": "NDjwWVaO9lN5"
      },
      "execution_count": null,
      "outputs": []
    },
    {
      "cell_type": "code",
      "source": [
        "# Fetch data for the specific date range\n",
        "start_date3 = datetime(2024, 1, 25)\n",
        "end_date3 = datetime(2024, 1, 26)\n",
        "weather_data_3 = fetch_weather_data(start_date3, end_date3)\n",
        "df3 = pd.DataFrame(weather_data_3)"
      ],
      "metadata": {
        "id": "kZqzPK_9AW9F"
      },
      "execution_count": null,
      "outputs": []
    },
    {
      "cell_type": "code",
      "source": [
        "# Combine the two DataFrames\n",
        "combined_data_df = pd.concat([df1, df3, df2], ignore_index=True)\n",
        "combined_data_df"
      ],
      "metadata": {
        "id": "6y68r866HRah"
      },
      "execution_count": null,
      "outputs": []
    },
    {
      "cell_type": "code",
      "source": [
        "# Identify duplicate rows based on the 'Date' column\n",
        "duplicates_by_date = combined_data_df.duplicated(subset=['Date'])\n",
        "print(\"Duplicate rows based on 'Date' column:\\n\", combined_data_df[duplicates_by_date]['Date'], len(combined_data_df[duplicates_by_date]['Date']))"
      ],
      "metadata": {
        "id": "3AMzxhg7HYi4"
      },
      "execution_count": null,
      "outputs": []
    },
    {
      "cell_type": "code",
      "source": [
        "# Remove duplicates\n",
        "df_cleaned = combined_data_df.drop_duplicates(subset=['Date'])"
      ],
      "metadata": {
        "id": "DVEiPAb3HqDy"
      },
      "execution_count": null,
      "outputs": []
    },
    {
      "cell_type": "code",
      "source": [
        "# Export the DataFrame to a CSV file\n",
        "df_cleaned.to_csv('weather-yearly-historical-data-tokyo_072824.csv', index=False)"
      ],
      "metadata": {
        "id": "geC4YkwzCw6E"
      },
      "execution_count": null,
      "outputs": []
    }
  ]
}